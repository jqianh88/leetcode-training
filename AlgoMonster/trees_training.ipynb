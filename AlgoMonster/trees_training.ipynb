{
 "cells": [
  {
   "cell_type": "markdown",
   "metadata": {},
   "source": [
    "# Trees Training \n",
    "\n",
    "- Binary Trees\n",
    "- n-nary Trees\n",
    "- Types of trees: full, complete, perfect\n",
    "\n"
   ]
  },
  {
   "cell_type": "code",
   "execution_count": null,
   "metadata": {},
   "outputs": [],
   "source": [
    "class Node:\n",
    "    def __init__(self, val):\n",
    "        self.val = val\n",
    "        self.right = None\n",
    "        self.left = None"
   ]
  },
  {
   "cell_type": "markdown",
   "metadata": {},
   "source": [
    "Javascript version \n",
    "\n",
    "class Node {\n",
    "    constructor(val, left = null, right = null) {\n",
    "        this.val = val;\n",
    "        this.left = left;\n",
    "        this.right = right;\n",
    "    }\n",
    "}"
   ]
  },
  {
   "cell_type": "markdown",
   "metadata": {},
   "source": [
    "# Full, Complete, Perfect Trees\n",
    "- Full: Every node has 0 or 2 children\n",
    "- Complete: Tree is totally filled except the last level and all nodes in the last level are as far left as possible. Will be discussed in the heap section. \n",
    "- Perfect: \n",
    "    - Has 2^n-1 nodes where n is the number of levels. Levels follow a geometric sequence a(1-r^n)/(1-r)\n",
    "    - Number of internal nodes = number of leaf nodes - 1.\n",
    "    - Total number of nodes = 2 * number of leaf nodes - 1. This is a derivative of property #2 and the fact that the total number of nodes = number of leaf nodes + number of internal nodes. So the number of total nodes and leaf nodes are both O(2^n)\n"
   ]
  },
  {
   "cell_type": "markdown",
   "metadata": {},
   "source": [
    "# Binary Search Tree\n",
    "\n",
    "- Special type of binary tree where all left descendants < node < all right descendants"
   ]
  },
  {
   "cell_type": "markdown",
   "metadata": {},
   "source": [
    "# Balanced Binary Tree\n",
    "\n",
    "- Fullfills the condition that the difference between the left and right descendants is not more than 1. \n",
    "- Search, insertion, deletion in a balanced binary tree = O(logn) instead of O(n) in an unbalanced binary tree.\n",
    "- Examples of these trees\n",
    "    - red-black trees\n",
    "    - AVL trees"
   ]
  },
  {
   "cell_type": "markdown",
   "metadata": {},
   "source": [
    "# Tree Traversal\n",
    "\n",
    "- In-order\n",
    "- Pre-order\n",
    "- Post-order\n",
    "\n",
    "## In-Order\n",
    "- Order: left branch, current node, right branch\n",
    "\n",
    "## Pre-Order\n",
    "- Order: current node, left branch, right branch\n",
    "\n",
    "\n",
    "## Post-Order\n",
    "- Order: left branch, right branch, current node"
   ]
  },
  {
   "cell_type": "code",
   "execution_count": 2,
   "metadata": {},
   "outputs": [],
   "source": [
    "# In Order Traversal with Recursion\n",
    "\n",
    "class Node:\n",
    "    def __init__(self, val, left=None, right=None):\n",
    "        self.val = val\n",
    "        self.left = left\n",
    "        self.right = right\n",
    "\n",
    "def in_order_traversal(root: Node) -> Node:\n",
    "    if root:\n",
    "        in_order_traversal(root.left)\n",
    "        print(root.val)\n",
    "        in_order_traversal(root.right)\n",
    "\n",
    "def build_tree(nodes, f):\n",
    "    val = next(nodes)\n",
    "    if val == 'x':\n",
    "        return None\n",
    "    left = build_tree(nodes, f)\n",
    "    right = build_tree(nodes, f)\n",
    "    return Node(f(val), left, right)\n",
    "\n",
    "if __name__ == \"main\":\n",
    "    root = build_tree(iter(input().split()), int)\n",
    "    in_order_traversal(root)"
   ]
  },
  {
   "cell_type": "code",
   "execution_count": 1,
   "metadata": {},
   "outputs": [],
   "source": [
    "# Pre-Order Traversal\n",
    "\n",
    "class Node:\n",
    "    def __init__(self, val, left=None, right=None):\n",
    "        self.val = val\n",
    "        self.left = left\n",
    "        self.right = right\n",
    "\n",
    "def pre_order_traversal(root: Node) -> Node:\n",
    "    if root:\n",
    "        print(root.val)\n",
    "        pre_order_traversal(root.left)\n",
    "        pre_order_traversal(root.right)\n",
    "\n",
    "def build_tree(nodes, f):\n",
    "    val = next(nodes)\n",
    "    if val == 'x':\n",
    "        return None\n",
    "\n",
    "    left = build_tree(nodes, f)\n",
    "    right = build_tree(nodes,f)\n",
    "    return Node(f(val), left, right)\n",
    "\n",
    "if __name__ == 'main':\n",
    "    root = build_tree(iter(input().split()), int)\n",
    "    pre_order_traversal(root)\n"
   ]
  },
  {
   "cell_type": "code",
   "execution_count": 3,
   "metadata": {},
   "outputs": [],
   "source": [
    "# Post-Order Traversal\n",
    "\n",
    "class Node:\n",
    "    def __init__(self, val, left=None, right=None):\n",
    "        self.val = val\n",
    "        self.left = left\n",
    "        self.right = right\n",
    "\n",
    "\n",
    "def post_order_traversal(root: Node) -> Node:\n",
    "    if root:\n",
    "        post_order_traversal(root.left)\n",
    "        post_order_traversal(root.right)\n",
    "        print(root.val)\n",
    "\n",
    "def build_tree(nodes, f):\n",
    "\n",
    "    val = next(nodes)\n",
    "    if val == 'x':\n",
    "        return None\n",
    "    left = build_tree(nodes, f)\n",
    "    right = build_tree(nodes, f)\n",
    "\n",
    "    return Node(f(val), left, right)\n",
    "\n",
    "if __name__ == 'main':\n",
    "    root = build_tree(iter(input().split()), int)\n",
    "    post_order_traversal(root)"
   ]
  },
  {
   "cell_type": "markdown",
   "metadata": {},
   "source": [
    "# How AlgoMonster Encodes Binary Trees\n",
    "\n",
    "- binary tree is represented as a string. \n",
    "- Values of each node are separated by an empty space, and null nodes are represented by \"x\". The function build_tree() in the driver code processes the given string into a binary tree, fills the tree with pre-order traversal (current, left, right)\n",
    "\n",
    "## Ex: `5 4 3 x x 8 x x 6 x x`\n",
    "build_tree() builds the binary tree \n",
    "- 5 4 3 go on the left most branch, x x are children of 3, 8 is right branch child of 4, 8 has no children x x, 6 is right branch of 5 and no children x x."
   ]
  },
  {
   "cell_type": "code",
   "execution_count": null,
   "metadata": {},
   "outputs": [],
   "source": [
    "# Other than Binary Trees\n",
    "\n",
    "class Node:\n",
    "    def __init__(self, val, children=None):\n",
    "        if children is None:\n",
    "            children = []\n",
    "        self.val = val\n",
    "        self.children = children\n",
    "\n",
    "'''\n",
    "Same idea as the binary tree. Represented as a string. Values of each node and the number of its children are separated by an empty space.\n",
    "- build_tree() in theh driver code, processes the string into a tree and fills the tree with pre-order traversal (current, left, right).\n",
    "\n",
    "Ex: 7 3 2 1 5 0 3 0 4 0\n",
    "\n",
    "7 has 3 children, 2, has 1 child, 5 has 0 children, 3 has 0 children, 4 has 0 children.\n",
    "- So it would 7 with children 2, 3, 4; then 2 has 5 as its child.\n",
    "'''"
   ]
  },
  {
   "cell_type": "code",
   "execution_count": null,
   "metadata": {},
   "outputs": [],
   "source": []
  }
 ],
 "metadata": {
  "kernelspec": {
   "display_name": "jessicas-playground",
   "language": "python",
   "name": "python3"
  },
  "language_info": {
   "codemirror_mode": {
    "name": "ipython",
    "version": 3
   },
   "file_extension": ".py",
   "mimetype": "text/x-python",
   "name": "python",
   "nbconvert_exporter": "python",
   "pygments_lexer": "ipython3",
   "version": "3.11.0"
  }
 },
 "nbformat": 4,
 "nbformat_minor": 2
}
